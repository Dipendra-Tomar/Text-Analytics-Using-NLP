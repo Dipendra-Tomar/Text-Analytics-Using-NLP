{
  "nbformat": 4,
  "nbformat_minor": 0,
  "metadata": {
    "colab": {
      "name": "Neurosensum_Translator.ipynb",
      "provenance": [],
      "collapsed_sections": [],
      "machine_shape": "hm"
    },
    "kernelspec": {
      "name": "python3",
      "display_name": "Python 3"
    },
    "accelerator": "GPU"
  },
  "cells": [
    {
      "cell_type": "markdown",
      "metadata": {
        "id": "fw2sjpaoKQEW",
        "colab_type": "text"
      },
      "source": [
        "# Let's try to create a Indonesian-English Translator"
      ]
    },
    {
      "cell_type": "markdown",
      "metadata": {
        "id": "bCRwrE0JKpl0",
        "colab_type": "text"
      },
      "source": [
        "## Loading libraries and datasets."
      ]
    },
    {
      "cell_type": "code",
      "metadata": {
        "id": "-Jq55Q7sW8H7",
        "colab_type": "code",
        "outputId": "56c0305e-9f3e-4582-cd4d-6dba35058f21",
        "colab": {
          "base_uri": "https://localhost:8080/",
          "height": 34
        }
      },
      "source": [
        "import pandas as pd\n",
        "import numpy as np\n",
        "import string\n",
        "import re\n",
        "from keras.models import Sequential, load_model\n",
        "from keras.layers import Dense, LSTM, Embedding, RepeatVector\n",
        "from keras.preprocessing.text import Tokenizer\n",
        "from keras.callbacks import ModelCheckpoint\n",
        "from keras.preprocessing.sequence import pad_sequences\n",
        "from keras import optimizers\n",
        "import matplotlib.pyplot as plt\n",
        "from sklearn.model_selection import train_test_split\n",
        "%matplotlib inline\n",
        "pd.set_option('display.max_colwidth', 200)"
      ],
      "execution_count": 1,
      "outputs": [
        {
          "output_type": "stream",
          "text": [
            "Using TensorFlow backend.\n"
          ],
          "name": "stderr"
        }
      ]
    },
    {
      "cell_type": "code",
      "metadata": {
        "id": "RD239SrUX1Ht",
        "colab_type": "code",
        "colab": {}
      },
      "source": [
        "data_raw = pd.read_csv('assignment.csv', low_memory=False)"
      ],
      "execution_count": 0,
      "outputs": []
    },
    {
      "cell_type": "code",
      "metadata": {
        "id": "ip37juJiYb5N",
        "colab_type": "code",
        "outputId": "965c6d12-dea4-4627-e52b-aab57d87c63b",
        "colab": {
          "base_uri": "https://localhost:8080/",
          "height": 147
        }
      },
      "source": [
        "data_raw.head(2)"
      ],
      "execution_count": 3,
      "outputs": [
        {
          "output_type": "execute_result",
          "data": {
            "text/html": [
              "<div>\n",
              "<style scoped>\n",
              "    .dataframe tbody tr th:only-of-type {\n",
              "        vertical-align: middle;\n",
              "    }\n",
              "\n",
              "    .dataframe tbody tr th {\n",
              "        vertical-align: top;\n",
              "    }\n",
              "\n",
              "    .dataframe thead th {\n",
              "        text-align: right;\n",
              "    }\n",
              "</style>\n",
              "<table border=\"1\" class=\"dataframe\">\n",
              "  <thead>\n",
              "    <tr style=\"text-align: right;\">\n",
              "      <th></th>\n",
              "      <th>unique_id</th>\n",
              "      <th>raw_text</th>\n",
              "      <th>review_text</th>\n",
              "    </tr>\n",
              "  </thead>\n",
              "  <tbody>\n",
              "    <tr>\n",
              "      <th>0</th>\n",
              "      <td>0</td>\n",
              "      <td>Spiritually and mentally inspiring! A book that allows you to question your morals and will help you discover who you really are!</td>\n",
              "      <td>Menginspirasi secara spiritual dan mental! Buku yang memungkinkan Anda mempertanyakan moral Anda dan akan membantu Anda menemukan siapa diri Anda sebenarnya!</td>\n",
              "    </tr>\n",
              "    <tr>\n",
              "      <th>1</th>\n",
              "      <td>1</td>\n",
              "      <td>This is one my must have books</td>\n",
              "      <td>Ini adalah salah satu yang harus saya miliki buku</td>\n",
              "    </tr>\n",
              "  </tbody>\n",
              "</table>\n",
              "</div>"
            ],
            "text/plain": [
              "   unique_id  ...                                                                                                                                                    review_text\n",
              "0          0  ...  Menginspirasi secara spiritual dan mental! Buku yang memungkinkan Anda mempertanyakan moral Anda dan akan membantu Anda menemukan siapa diri Anda sebenarnya!\n",
              "1          1  ...                                                                                                              Ini adalah salah satu yang harus saya miliki buku\n",
              "\n",
              "[2 rows x 3 columns]"
            ]
          },
          "metadata": {
            "tags": []
          },
          "execution_count": 3
        }
      ]
    },
    {
      "cell_type": "code",
      "metadata": {
        "id": "fcySw7jVYe8c",
        "colab_type": "code",
        "outputId": "a3b7483e-8e9c-4679-d0dd-2e4044b86a94",
        "colab": {
          "base_uri": "https://localhost:8080/",
          "height": 34
        }
      },
      "source": [
        "len(data_raw)"
      ],
      "execution_count": 4,
      "outputs": [
        {
          "output_type": "execute_result",
          "data": {
            "text/plain": [
              "53757"
            ]
          },
          "metadata": {
            "tags": []
          },
          "execution_count": 4
        }
      ]
    },
    {
      "cell_type": "markdown",
      "metadata": {
        "id": "jyNk44ldQw_s",
        "colab_type": "text"
      },
      "source": [
        "## Text Pre-processing"
      ]
    },
    {
      "cell_type": "markdown",
      "metadata": {
        "id": "Xmptnz5KQ3nf",
        "colab_type": "text"
      },
      "source": [
        "### Text Cleaning"
      ]
    },
    {
      "cell_type": "code",
      "metadata": {
        "id": "EuBBMDV-ZHDg",
        "colab_type": "code",
        "colab": {}
      },
      "source": [
        "# copying out raw data\n",
        "data = data_raw.copy()\n",
        "data['review_text'] = data['review_text'].astype(str)"
      ],
      "execution_count": 0,
      "outputs": []
    },
    {
      "cell_type": "code",
      "metadata": {
        "id": "T8_M2MdlRHwV",
        "colab_type": "code",
        "outputId": "4e524149-0da3-41e8-d280-1ecd6479e752",
        "colab": {
          "base_uri": "https://localhost:8080/",
          "height": 147
        }
      },
      "source": [
        "# Getting rid of punctuations\n",
        "data['raw_text'] = data['raw_text'].str.translate(str.maketrans('', '', string.punctuation))\n",
        "data['review_text'] = data['review_text'].str.translate(str.maketrans('', '', string.punctuation))\n",
        "data.head(2)"
      ],
      "execution_count": 6,
      "outputs": [
        {
          "output_type": "execute_result",
          "data": {
            "text/html": [
              "<div>\n",
              "<style scoped>\n",
              "    .dataframe tbody tr th:only-of-type {\n",
              "        vertical-align: middle;\n",
              "    }\n",
              "\n",
              "    .dataframe tbody tr th {\n",
              "        vertical-align: top;\n",
              "    }\n",
              "\n",
              "    .dataframe thead th {\n",
              "        text-align: right;\n",
              "    }\n",
              "</style>\n",
              "<table border=\"1\" class=\"dataframe\">\n",
              "  <thead>\n",
              "    <tr style=\"text-align: right;\">\n",
              "      <th></th>\n",
              "      <th>unique_id</th>\n",
              "      <th>raw_text</th>\n",
              "      <th>review_text</th>\n",
              "    </tr>\n",
              "  </thead>\n",
              "  <tbody>\n",
              "    <tr>\n",
              "      <th>0</th>\n",
              "      <td>0</td>\n",
              "      <td>Spiritually and mentally inspiring A book that allows you to question your morals and will help you discover who you really are</td>\n",
              "      <td>Menginspirasi secara spiritual dan mental Buku yang memungkinkan Anda mempertanyakan moral Anda dan akan membantu Anda menemukan siapa diri Anda sebenarnya</td>\n",
              "    </tr>\n",
              "    <tr>\n",
              "      <th>1</th>\n",
              "      <td>1</td>\n",
              "      <td>This is one my must have books</td>\n",
              "      <td>Ini adalah salah satu yang harus saya miliki buku</td>\n",
              "    </tr>\n",
              "  </tbody>\n",
              "</table>\n",
              "</div>"
            ],
            "text/plain": [
              "   unique_id  ...                                                                                                                                                  review_text\n",
              "0          0  ...  Menginspirasi secara spiritual dan mental Buku yang memungkinkan Anda mempertanyakan moral Anda dan akan membantu Anda menemukan siapa diri Anda sebenarnya\n",
              "1          1  ...                                                                                                            Ini adalah salah satu yang harus saya miliki buku\n",
              "\n",
              "[2 rows x 3 columns]"
            ]
          },
          "metadata": {
            "tags": []
          },
          "execution_count": 6
        }
      ]
    },
    {
      "cell_type": "code",
      "metadata": {
        "id": "Je8eH-gESsCd",
        "colab_type": "code",
        "outputId": "f0a454e4-f9ff-47a8-b1b3-470e8c378faf",
        "colab": {
          "base_uri": "https://localhost:8080/",
          "height": 147
        }
      },
      "source": [
        "# convert text to lower case\n",
        "data['raw_text'] = data['raw_text'].str.lower()\n",
        "data['review_text'] = data['review_text'].str.lower()\n",
        "data.head(2)"
      ],
      "execution_count": 7,
      "outputs": [
        {
          "output_type": "execute_result",
          "data": {
            "text/html": [
              "<div>\n",
              "<style scoped>\n",
              "    .dataframe tbody tr th:only-of-type {\n",
              "        vertical-align: middle;\n",
              "    }\n",
              "\n",
              "    .dataframe tbody tr th {\n",
              "        vertical-align: top;\n",
              "    }\n",
              "\n",
              "    .dataframe thead th {\n",
              "        text-align: right;\n",
              "    }\n",
              "</style>\n",
              "<table border=\"1\" class=\"dataframe\">\n",
              "  <thead>\n",
              "    <tr style=\"text-align: right;\">\n",
              "      <th></th>\n",
              "      <th>unique_id</th>\n",
              "      <th>raw_text</th>\n",
              "      <th>review_text</th>\n",
              "    </tr>\n",
              "  </thead>\n",
              "  <tbody>\n",
              "    <tr>\n",
              "      <th>0</th>\n",
              "      <td>0</td>\n",
              "      <td>spiritually and mentally inspiring a book that allows you to question your morals and will help you discover who you really are</td>\n",
              "      <td>menginspirasi secara spiritual dan mental buku yang memungkinkan anda mempertanyakan moral anda dan akan membantu anda menemukan siapa diri anda sebenarnya</td>\n",
              "    </tr>\n",
              "    <tr>\n",
              "      <th>1</th>\n",
              "      <td>1</td>\n",
              "      <td>this is one my must have books</td>\n",
              "      <td>ini adalah salah satu yang harus saya miliki buku</td>\n",
              "    </tr>\n",
              "  </tbody>\n",
              "</table>\n",
              "</div>"
            ],
            "text/plain": [
              "   unique_id  ...                                                                                                                                                  review_text\n",
              "0          0  ...  menginspirasi secara spiritual dan mental buku yang memungkinkan anda mempertanyakan moral anda dan akan membantu anda menemukan siapa diri anda sebenarnya\n",
              "1          1  ...                                                                                                            ini adalah salah satu yang harus saya miliki buku\n",
              "\n",
              "[2 rows x 3 columns]"
            ]
          },
          "metadata": {
            "tags": []
          },
          "execution_count": 7
        }
      ]
    },
    {
      "cell_type": "markdown",
      "metadata": {
        "id": "c0Fc1JABV6pX",
        "colab_type": "text"
      },
      "source": [
        "### Text to Sequence Conversion\n",
        "In Seq2Seq model we convert both the input and the output sentences into integer sequences of fixed length.\n",
        "\n",
        "Visualising the length of the sentences & capturing the lengths of all the sentences in two separate lists for English and Indonesian, respectively."
      ]
    },
    {
      "cell_type": "code",
      "metadata": {
        "id": "TvI5jQEVTOJq",
        "colab_type": "code",
        "outputId": "1af2484c-47e4-40a5-8a1c-712fc92efc5f",
        "colab": {
          "base_uri": "https://localhost:8080/",
          "height": 281
        }
      },
      "source": [
        "eng_l = []\n",
        "ind_l = []\n",
        "\n",
        "for i in data['raw_text']:\n",
        "  eng_l.append(len(i.split()))\n",
        "\n",
        "for i in data['review_text']:\n",
        "  ind_l.append(len(i.split()))\n",
        "\n",
        "length_df = pd.DataFrame({'eng': eng_l, 'ind': ind_l})\n",
        "\n",
        "length_df.hist(bins=60)\n",
        "plt.show()"
      ],
      "execution_count": 8,
      "outputs": [
        {
          "output_type": "display_data",
          "data": {
            "image/png": "[encoded data removed]",
            "text/plain": [
              "<Figure size 432x288 with 2 Axes>"
            ]
          },
          "metadata": {
            "tags": []
          }
        }
      ]
    },
    {
      "cell_type": "code",
      "metadata": {
        "id": "GUu7fSrtTVbO",
        "colab_type": "code",
        "outputId": "3f83ca76-a7e2-4617-9430-c7f9b108192d",
        "colab": {
          "base_uri": "https://localhost:8080/",
          "height": 86
        }
      },
      "source": [
        "print('max_eng: ', max(eng_l), 'max_ind: ', max(ind_l))\n",
        "print('median_eng: ', np.median(eng_l), 'median_ind: ', np.median(ind_l))\n",
        "print('99percentile_eng: ', np.percentile(eng_l, q=99),\n",
        "      '99percentile_ind: ', np.percentile(ind_l, q=99))\n",
        "print('90percentile_eng: ', np.percentile(eng_l, q=90),\n",
        "      '90percentile_ind: ', np.percentile(ind_l, q=90))"
      ],
      "execution_count": 9,
      "outputs": [
        {
          "output_type": "stream",
          "text": [
            "max_eng:  218 max_ind:  215\n",
            "median_eng:  14.0 median_ind:  12.0\n",
            "99percentile_eng:  54.0 99percentile_ind:  48.0\n",
            "90percentile_eng:  29.0 90percentile_ind:  26.0\n"
          ],
          "name": "stdout"
        }
      ]
    },
    {
      "cell_type": "markdown",
      "metadata": {
        "id": "6tFhQkk9HQ0X",
        "colab_type": "text"
      },
      "source": [
        "the maximum length of the Indonesian sentences is 215 and that of the English phrases is 218.\n",
        "\n",
        "But 90% of data has sentence length of under 30, to make out matrix less sparse we will use length 30 cause 90% of data can be represented by sentence of length 30.\n",
        "\n",
        "Let's cap our Dataset to upto maximum 30 words sentences."
      ]
    },
    {
      "cell_type": "code",
      "metadata": {
        "id": "gPn47Ed0DlEP",
        "colab_type": "code",
        "colab": {}
      },
      "source": [
        "data = data[data['raw_text'].map(lambda x: len(x.split()))<=30]"
      ],
      "execution_count": 0,
      "outputs": []
    },
    {
      "cell_type": "markdown",
      "metadata": {
        "id": "dw0OiLRDc3nj",
        "colab_type": "text"
      },
      "source": [
        "Vectorize our text data by using Keras’s **Tokenizer()** class. It will turn our sentences into sequences of integers. We can then pad those sequences with zeros to make all the sequences of the same length.\n",
        "\n",
        "Note that we will prepare tokenizers for both the Indonesian and English sentences:\n"
      ]
    },
    {
      "cell_type": "code",
      "metadata": {
        "id": "HpJ-_Ctvd1xk",
        "colab_type": "code",
        "colab": {}
      },
      "source": [
        "# function to build a tokenizer\n",
        "def tokenization(lines):\n",
        "  tokenizer = Tokenizer()\n",
        "  tokenizer.fit_on_texts(lines)\n",
        "  return tokenizer"
      ],
      "execution_count": 0,
      "outputs": []
    },
    {
      "cell_type": "code",
      "metadata": {
        "id": "k1Afcty5YgfS",
        "colab_type": "code",
        "outputId": "b0e0c0c6-a6d8-4657-aeda-b6b1faab02e6",
        "colab": {
          "base_uri": "https://localhost:8080/",
          "height": 34
        }
      },
      "source": [
        "# prepare English tokenizer\n",
        "eng_tokenizer = tokenization(np.array(data['raw_text']))\n",
        "eng_vocab_size = len(eng_tokenizer.word_index) + 1\n",
        "eng_length = 30\n",
        "\n",
        "print('English Vocabulary Size: %d' % eng_vocab_size)"
      ],
      "execution_count": 47,
      "outputs": [
        {
          "output_type": "stream",
          "text": [
            "English Vocabulary Size: 25362\n"
          ],
          "name": "stdout"
        }
      ]
    },
    {
      "cell_type": "code",
      "metadata": {
        "id": "orToK4-XeZEF",
        "colab_type": "code",
        "outputId": "ca664208-8924-49c6-b392-2d1a78da7f84",
        "colab": {
          "base_uri": "https://localhost:8080/",
          "height": 34
        }
      },
      "source": [
        "# prepare Indonesian tokenizer\n",
        "ind_tokenizer = tokenization(np.array(data['review_text']))\n",
        "ind_vocab_size = len(ind_tokenizer.word_index) + 1\n",
        "ind_length = 30\n",
        "\n",
        "print('Indonesian Vocabulary Size: %d' % ind_vocab_size)"
      ],
      "execution_count": 48,
      "outputs": [
        {
          "output_type": "stream",
          "text": [
            "Indonesian Vocabulary Size: 19003\n"
          ],
          "name": "stdout"
        }
      ]
    },
    {
      "cell_type": "markdown",
      "metadata": {
        "id": "AdUDFfZPhyI2",
        "colab_type": "text"
      },
      "source": [
        "Prepare the sequences & sequence padding to a maximum sentence length as mentioned above."
      ]
    },
    {
      "cell_type": "code",
      "metadata": {
        "id": "VKaegvhXegM4",
        "colab_type": "code",
        "colab": {}
      },
      "source": [
        "# encode and pad sequences\n",
        "def encode_sequences(tokenizer, length, lines):\n",
        "  # integet encode squences\n",
        "  seq = tokenizer.texts_to_sequences(lines)\n",
        "  # pad sequences with value 0\n",
        "  seq = pad_sequences(seq, maxlen=length, padding='post')\n",
        "  return seq"
      ],
      "execution_count": 0,
      "outputs": []
    },
    {
      "cell_type": "markdown",
      "metadata": {
        "id": "sfyvwMjIh5m8",
        "colab_type": "text"
      },
      "source": [
        "## Model Building"
      ]
    },
    {
      "cell_type": "code",
      "metadata": {
        "id": "C09pKL66hre_",
        "colab_type": "code",
        "colab": {}
      },
      "source": [
        "train, test = train_test_split(data, test_size=0.15, random_state=2019)"
      ],
      "execution_count": 0,
      "outputs": []
    },
    {
      "cell_type": "code",
      "metadata": {
        "id": "Beqt4Boxh8j2",
        "colab_type": "code",
        "colab": {}
      },
      "source": [
        "# preparing training data\n",
        "X_train = encode_sequences(ind_tokenizer, ind_length, np.array(train['review_text']))\n",
        "y_train = encode_sequences(eng_tokenizer, eng_length, np.array(train['raw_text']))\n",
        "\n",
        "# preparing training data\n",
        "X_test = encode_sequences(ind_tokenizer, ind_length, np.array(test['review_text']))\n",
        "y_test = encode_sequences(eng_tokenizer, eng_length, np.array(test['raw_text']))"
      ],
      "execution_count": 0,
      "outputs": []
    },
    {
      "cell_type": "markdown",
      "metadata": {
        "id": "5XCeQdcTjbFM",
        "colab_type": "text"
      },
      "source": [
        "Defining our Seq2Seq model architecture:\n",
        "\n",
        "* For the encoder, we will use an embedding layer and an LSTM layer.\n",
        "* For the decoder, we will use another LSTM layer followed by a dense layer."
      ]
    },
    {
      "cell_type": "code",
      "metadata": {
        "id": "gpU1nv33jDxW",
        "colab_type": "code",
        "colab": {}
      },
      "source": [
        "# build NMT model\n",
        "def define_model(in_vocab, out_vocab, in_timesteps, out_timesteps, units):\n",
        "  model = Sequential()\n",
        "  model.add(Embedding(input_dim=in_vocab, output_dim=units, input_length=in_timesteps, mask_zero=True))\n",
        "  model.add(LSTM(units=units))\n",
        "  model.add(RepeatVector(out_timesteps))\n",
        "  model.add(LSTM(units=units, return_sequences=True))\n",
        "  model.add(Dense(out_vocab, activation='softmax'))\n",
        "  return model"
      ],
      "execution_count": 0,
      "outputs": []
    },
    {
      "cell_type": "code",
      "metadata": {
        "id": "lnix6JmhlJ8i",
        "colab_type": "code",
        "colab": {}
      },
      "source": [
        "# model compilation\n",
        "model = define_model(ind_vocab_size, eng_vocab_size, ind_length, eng_length, 512);"
      ],
      "execution_count": 0,
      "outputs": []
    },
    {
      "cell_type": "markdown",
      "metadata": {
        "id": "7STs1I_NlKjf",
        "colab_type": "text"
      },
      "source": [
        "Using the RMSprop optimizer in this model as it’s usually a good choice when working with recurrent neural networks.\n"
      ]
    },
    {
      "cell_type": "code",
      "metadata": {
        "id": "iD9ZgUGYlLsX",
        "colab_type": "code",
        "colab": {}
      },
      "source": [
        "rms = optimizers.RMSprop(lr=0.001);\n",
        "model.compile(optimizer=rms, loss='sparse_categorical_crossentropy');"
      ],
      "execution_count": 0,
      "outputs": []
    },
    {
      "cell_type": "markdown",
      "metadata": {
        "id": "ylEMLkyxmHy2",
        "colab_type": "text"
      },
      "source": [
        "Using **‘sparse_categorical_crossentropy‘** as the loss function because the function allows to use the target sequence as is, instead of the one-hot encoded format. **One-hot encoding the target sequences using such a huge vocabulary might consume system’s entire memory.**\n",
        "\n",
        "**Training it for 30 epochs and with a batch size of 512 with a validation split of 15%.**\n",
        "\n",
        "Using the **ModelCheckpoint()** function to save the model with the lowest validation loss."
      ]
    },
    {
      "cell_type": "code",
      "metadata": {
        "id": "6BdbudGal3oG",
        "colab_type": "code",
        "outputId": "d750dea7-f21a-4d72-b377-73856670b64f",
        "colab": {
          "base_uri": "https://localhost:8080/",
          "height": 1000
        }
      },
      "source": [
        "filename = 'model.h1.01_oct_2019'\n",
        "\n",
        "checkpoint = ModelCheckpoint(filename, monitor='val_loss', verbose=1, save_best_only=True, mode='min')\n",
        "\n",
        "# train model\n",
        "history = model.fit(X_train, y_train.reshape(y_train.shape[0], y_train.shape[1], 1), epochs=30,\n",
        "                    batch_size=390, validation_split=0.15, callbacks=[checkpoint], verbose=1)"
      ],
      "execution_count": 55,
      "outputs": [
        {
          "output_type": "stream",
          "text": [
            "Train on 35449 samples, validate on 6256 samples\n",
            "Epoch 1/30\n",
            "35449/35449 [==============================] - 79s 2ms/step - loss: 3.9519 - val_loss: 3.6475\n",
            "\n",
            "Epoch 00001: val_loss improved from inf to 3.64755, saving model to model.h1.01_oct_2019\n",
            "Epoch 2/30\n",
            "35449/35449 [==============================] - 77s 2ms/step - loss: 3.4736 - val_loss: 3.4815\n",
            "\n",
            "Epoch 00002: val_loss improved from 3.64755 to 3.48154, saving model to model.h1.01_oct_2019\n",
            "Epoch 3/30\n",
            "35449/35449 [==============================] - 77s 2ms/step - loss: 3.3293 - val_loss: 3.4377\n",
            "\n",
            "Epoch 00003: val_loss improved from 3.48154 to 3.43774, saving model to model.h1.01_oct_2019\n",
            "Epoch 4/30\n",
            "35449/35449 [==============================] - 77s 2ms/step - loss: 3.2571 - val_loss: 3.2286\n",
            "\n",
            "Epoch 00004: val_loss improved from 3.43774 to 3.22861, saving model to model.h1.01_oct_2019\n",
            "Epoch 5/30\n",
            "35449/35449 [==============================] - 77s 2ms/step - loss: 3.2083 - val_loss: 3.3111\n",
            "\n",
            "Epoch 00005: val_loss did not improve from 3.22861\n",
            "Epoch 6/30\n",
            "35449/35449 [==============================] - 77s 2ms/step - loss: 3.1616 - val_loss: 3.1397\n",
            "\n",
            "Epoch 00006: val_loss improved from 3.22861 to 3.13975, saving model to model.h1.01_oct_2019\n",
            "Epoch 7/30\n",
            "35449/35449 [==============================] - 77s 2ms/step - loss: 3.1049 - val_loss: 3.0977\n",
            "\n",
            "Epoch 00007: val_loss improved from 3.13975 to 3.09768, saving model to model.h1.01_oct_2019\n",
            "Epoch 8/30\n",
            "35449/35449 [==============================] - 77s 2ms/step - loss: 3.0476 - val_loss: 3.0670\n",
            "\n",
            "Epoch 00008: val_loss improved from 3.09768 to 3.06699, saving model to model.h1.01_oct_2019\n",
            "Epoch 9/30\n",
            "35449/35449 [==============================] - 77s 2ms/step - loss: 2.9878 - val_loss: 3.0293\n",
            "\n",
            "Epoch 00009: val_loss improved from 3.06699 to 3.02934, saving model to model.h1.01_oct_2019\n",
            "Epoch 10/30\n",
            "35449/35449 [==============================] - 77s 2ms/step - loss: 2.9307 - val_loss: 3.0030\n",
            "\n",
            "Epoch 00010: val_loss improved from 3.02934 to 3.00296, saving model to model.h1.01_oct_2019\n",
            "Epoch 11/30\n",
            "35449/35449 [==============================] - 77s 2ms/step - loss: 2.8735 - val_loss: 2.9577\n",
            "\n",
            "Epoch 00011: val_loss improved from 3.00296 to 2.95771, saving model to model.h1.01_oct_2019\n",
            "Epoch 12/30\n",
            "35449/35449 [==============================] - 77s 2ms/step - loss: 2.8109 - val_loss: 2.9096\n",
            "\n",
            "Epoch 00012: val_loss improved from 2.95771 to 2.90962, saving model to model.h1.01_oct_2019\n",
            "Epoch 13/30\n",
            "35449/35449 [==============================] - 77s 2ms/step - loss: 2.7455 - val_loss: 2.8822\n",
            "\n",
            "Epoch 00013: val_loss improved from 2.90962 to 2.88225, saving model to model.h1.01_oct_2019\n",
            "Epoch 14/30\n",
            "35449/35449 [==============================] - 77s 2ms/step - loss: 2.6820 - val_loss: 2.8532\n",
            "\n",
            "Epoch 00014: val_loss improved from 2.88225 to 2.85321, saving model to model.h1.01_oct_2019\n",
            "Epoch 15/30\n",
            "35449/35449 [==============================] - 77s 2ms/step - loss: 2.6201 - val_loss: 2.8281\n",
            "\n",
            "Epoch 00015: val_loss improved from 2.85321 to 2.82811, saving model to model.h1.01_oct_2019\n",
            "Epoch 16/30\n",
            "35449/35449 [==============================] - 77s 2ms/step - loss: 2.5585 - val_loss: 2.7840\n",
            "\n",
            "Epoch 00016: val_loss improved from 2.82811 to 2.78401, saving model to model.h1.01_oct_2019\n",
            "Epoch 17/30\n",
            "35449/35449 [==============================] - 77s 2ms/step - loss: 2.4983 - val_loss: 2.7796\n",
            "\n",
            "Epoch 00017: val_loss improved from 2.78401 to 2.77960, saving model to model.h1.01_oct_2019\n",
            "Epoch 18/30\n",
            "35449/35449 [==============================] - 77s 2ms/step - loss: 2.4383 - val_loss: 2.7832\n",
            "\n",
            "Epoch 00018: val_loss did not improve from 2.77960\n",
            "Epoch 19/30\n",
            "35449/35449 [==============================] - 77s 2ms/step - loss: 2.3813 - val_loss: 2.7329\n",
            "\n",
            "Epoch 00019: val_loss improved from 2.77960 to 2.73291, saving model to model.h1.01_oct_2019\n",
            "Epoch 20/30\n",
            "35449/35449 [==============================] - 77s 2ms/step - loss: 2.3234 - val_loss: 2.7130\n",
            "\n",
            "Epoch 00020: val_loss improved from 2.73291 to 2.71299, saving model to model.h1.01_oct_2019\n",
            "Epoch 21/30\n",
            "35449/35449 [==============================] - 77s 2ms/step - loss: 2.2667 - val_loss: 2.6823\n",
            "\n",
            "Epoch 00021: val_loss improved from 2.71299 to 2.68232, saving model to model.h1.01_oct_2019\n",
            "Epoch 22/30\n",
            "35449/35449 [==============================] - 77s 2ms/step - loss: 2.2109 - val_loss: 2.6661\n",
            "\n",
            "Epoch 00022: val_loss improved from 2.68232 to 2.66608, saving model to model.h1.01_oct_2019\n",
            "Epoch 23/30\n",
            "35449/35449 [==============================] - 77s 2ms/step - loss: 2.1567 - val_loss: 2.6579\n",
            "\n",
            "Epoch 00023: val_loss improved from 2.66608 to 2.65785, saving model to model.h1.01_oct_2019\n",
            "Epoch 24/30\n",
            "35449/35449 [==============================] - 77s 2ms/step - loss: 2.1038 - val_loss: 2.6786\n",
            "\n",
            "Epoch 00024: val_loss did not improve from 2.65785\n",
            "Epoch 25/30\n",
            "35449/35449 [==============================] - 77s 2ms/step - loss: 2.0537 - val_loss: 2.6211\n",
            "\n",
            "Epoch 00025: val_loss improved from 2.65785 to 2.62106, saving model to model.h1.01_oct_2019\n",
            "Epoch 26/30\n",
            "35449/35449 [==============================] - 77s 2ms/step - loss: 2.0031 - val_loss: 2.6501\n",
            "\n",
            "Epoch 00026: val_loss did not improve from 2.62106\n",
            "Epoch 27/30\n",
            "35449/35449 [==============================] - 77s 2ms/step - loss: 1.9549 - val_loss: 2.6137\n",
            "\n",
            "Epoch 00027: val_loss improved from 2.62106 to 2.61366, saving model to model.h1.01_oct_2019\n",
            "Epoch 28/30\n",
            "35449/35449 [==============================] - 77s 2ms/step - loss: 1.9064 - val_loss: 2.6384\n",
            "\n",
            "Epoch 00028: val_loss did not improve from 2.61366\n",
            "Epoch 29/30\n",
            "35449/35449 [==============================] - 77s 2ms/step - loss: 1.8602 - val_loss: 2.6100\n",
            "\n",
            "Epoch 00029: val_loss improved from 2.61366 to 2.60999, saving model to model.h1.01_oct_2019\n",
            "Epoch 30/30\n",
            "35449/35449 [==============================] - 77s 2ms/step - loss: 1.8133 - val_loss: 2.6255\n",
            "\n",
            "Epoch 00030: val_loss did not improve from 2.60999\n"
          ],
          "name": "stdout"
        }
      ]
    },
    {
      "cell_type": "markdown",
      "metadata": {
        "id": "dLkm10VOosWk",
        "colab_type": "text"
      },
      "source": [
        " Comparing the training loss and the validation loss."
      ]
    },
    {
      "cell_type": "code",
      "metadata": {
        "id": "7zQ_eCveolI1",
        "colab_type": "code",
        "colab": {
          "base_uri": "https://localhost:8080/",
          "height": 269
        },
        "outputId": "711cf7ca-7e6e-4ea0-e906-369f495ee52e"
      },
      "source": [
        "plt.plot(history.history['loss'])\n",
        "plt.plot(history.history['val_loss'])\n",
        "plt.legend(['train', 'validation'])\n",
        "plt.show()"
      ],
      "execution_count": 56,
      "outputs": [
        {
          "output_type": "display_data",
          "data": {
            "image/png": "[encoded data removed]",
            "text/plain": [
              "<Figure size 432x288 with 1 Axes>"
            ]
          },
          "metadata": {
            "tags": []
          }
        }
      ]
    },
    {
      "cell_type": "markdown",
      "metadata": {
        "id": "jw3iqaGirW9E",
        "colab_type": "text"
      },
      "source": [
        "load the saved model and make predictions on the unseen data – testX."
      ]
    },
    {
      "cell_type": "code",
      "metadata": {
        "id": "lQw3_F-trAya",
        "colab_type": "code",
        "colab": {}
      },
      "source": [
        "model = load_model('model.h1.01_oct_2019')\n",
        "preds = model.predict_classes(X_test)"
      ],
      "execution_count": 0,
      "outputs": []
    },
    {
      "cell_type": "markdown",
      "metadata": {
        "id": "ykDrHQwdsPS9",
        "colab_type": "text"
      },
      "source": [
        "These predictions are sequences of integers. We need to convert these integers to their corresponding words. Let’s define a function to do this:"
      ]
    },
    {
      "cell_type": "code",
      "metadata": {
        "id": "I7yYc5OesMVY",
        "colab_type": "code",
        "colab": {}
      },
      "source": [
        "def get_words(n, tokenizer):\n",
        "  for word, index in tokenizer.word_index.items():\n",
        "    if index == n:\n",
        "      return word\n",
        "  return None"
      ],
      "execution_count": 0,
      "outputs": []
    },
    {
      "cell_type": "code",
      "metadata": {
        "id": "0xRbt7kIvd1o",
        "colab_type": "code",
        "colab": {}
      },
      "source": [
        "preds_text = []\n",
        "ct = 0\n",
        "for i in preds:\n",
        "  ct += 1\n",
        "  print(ct)\n",
        "  temp = []\n",
        "  for j in range(len(i)):\n",
        "    t = get_words(i[j], eng_tokenizer)\n",
        "    if j > 0:\n",
        "      if (t == get_words(i[j-1], eng_tokenizer)) or (t==None):\n",
        "        temp.append('')\n",
        "      else:\n",
        "        temp.append(t)\n",
        "    else:\n",
        "      if (t==None):\n",
        "        temp.append('')\n",
        "      else:\n",
        "        temp.append(t)\n",
        "  preds_text.append(' '.join(temp))"
      ],
      "execution_count": 0,
      "outputs": []
    },
    {
      "cell_type": "code",
      "metadata": {
        "id": "eMyGR4qJvvaW",
        "colab_type": "code",
        "colab": {}
      },
      "source": [
        "pred_df = pd.DataFrame({'actual' : np.array(test['raw_text']), 'predicted' : preds_text})"
      ],
      "execution_count": 0,
      "outputs": []
    },
    {
      "cell_type": "code",
      "metadata": {
        "id": "s-mgRatPY_0L",
        "colab_type": "code",
        "colab": {
          "base_uri": "https://localhost:8080/",
          "height": 224
        },
        "outputId": "c3a29058-3128-47e3-b1a5-2533cd319452"
      },
      "source": [
        "# print 15 rows rando/mly\n",
        "pred_df.sample(5)"
      ],
      "execution_count": 82,
      "outputs": [
        {
          "output_type": "execute_result",
          "data": {
            "text/html": [
              "<div>\n",
              "<style scoped>\n",
              "    .dataframe tbody tr th:only-of-type {\n",
              "        vertical-align: middle;\n",
              "    }\n",
              "\n",
              "    .dataframe tbody tr th {\n",
              "        vertical-align: top;\n",
              "    }\n",
              "\n",
              "    .dataframe thead th {\n",
              "        text-align: right;\n",
              "    }\n",
              "</style>\n",
              "<table border=\"1\" class=\"dataframe\">\n",
              "  <thead>\n",
              "    <tr style=\"text-align: right;\">\n",
              "      <th></th>\n",
              "      <th>actual</th>\n",
              "      <th>predicted</th>\n",
              "    </tr>\n",
              "  </thead>\n",
              "  <tbody>\n",
              "    <tr>\n",
              "      <th>3070</th>\n",
              "      <td>highly recommended</td>\n",
              "      <td>highly recommended</td>\n",
              "    </tr>\n",
              "    <tr>\n",
              "      <th>3427</th>\n",
              "      <td>in the hands of a powerful spirit a weakness can be transformed into a strength</td>\n",
              "      <td>the setting of the story is  can  to without</td>\n",
              "    </tr>\n",
              "    <tr>\n",
              "      <th>2917</th>\n",
              "      <td>many people dont wish to understand that this movie is not about jesus being tortured but what he went through in his final moments on earth</td>\n",
              "      <td>what people to    the film    but   christ  the  jesus  the hours</td>\n",
              "    </tr>\n",
              "    <tr>\n",
              "      <th>6324</th>\n",
              "      <td>simple to use and fantastic</td>\n",
              "      <td>easy to easy and to and</td>\n",
              "    </tr>\n",
              "    <tr>\n",
              "      <th>3271</th>\n",
              "      <td>each character had so much to offer to the story</td>\n",
              "      <td>the author is to    the</td>\n",
              "    </tr>\n",
              "  </tbody>\n",
              "</table>\n",
              "</div>"
            ],
            "text/plain": [
              "                                                                                                                                             actual                                                                  predicted\n",
              "3070                                                                                                                             highly recommended                             highly recommended                            \n",
              "3427                                                                in the hands of a powerful spirit a weakness can be transformed into a strength            the setting of the story is  can  to without                   \n",
              "2917   many people dont wish to understand that this movie is not about jesus being tortured but what he went through in his final moments on earth  what people to    the film    but   christ  the  jesus  the hours        \n",
              "6324                                                                                                                    simple to use and fantastic                            easy to easy and to and                        \n",
              "3271                                                                                               each character had so much to offer to the story                              the author is to    the                      "
            ]
          },
          "metadata": {
            "tags": []
          },
          "execution_count": 82
        }
      ]
    },
    {
      "cell_type": "code",
      "metadata": {
        "id": "7LgNhWsgaM84",
        "colab_type": "code",
        "colab": {
          "base_uri": "https://localhost:8080/",
          "height": 206
        },
        "outputId": "c1e02d9f-46e0-4741-c24a-dbad100e86ef"
      },
      "source": [
        "# print 15 rows rando/mly\n",
        "pred_df.sample(5)"
      ],
      "execution_count": 93,
      "outputs": [
        {
          "output_type": "execute_result",
          "data": {
            "text/html": [
              "<div>\n",
              "<style scoped>\n",
              "    .dataframe tbody tr th:only-of-type {\n",
              "        vertical-align: middle;\n",
              "    }\n",
              "\n",
              "    .dataframe tbody tr th {\n",
              "        vertical-align: top;\n",
              "    }\n",
              "\n",
              "    .dataframe thead th {\n",
              "        text-align: right;\n",
              "    }\n",
              "</style>\n",
              "<table border=\"1\" class=\"dataframe\">\n",
              "  <thead>\n",
              "    <tr style=\"text-align: right;\">\n",
              "      <th></th>\n",
              "      <th>actual</th>\n",
              "      <th>predicted</th>\n",
              "    </tr>\n",
              "  </thead>\n",
              "  <tbody>\n",
              "    <tr>\n",
              "      <th>1971</th>\n",
              "      <td>i got these nylons for a party in winter</td>\n",
              "      <td>i love this for     the</td>\n",
              "    </tr>\n",
              "    <tr>\n",
              "      <th>3764</th>\n",
              "      <td>works great</td>\n",
              "      <td>works great</td>\n",
              "    </tr>\n",
              "    <tr>\n",
              "      <th>1282</th>\n",
              "      <td>very sturdy</td>\n",
              "      <td>very sturdy</td>\n",
              "    </tr>\n",
              "    <tr>\n",
              "      <th>2735</th>\n",
              "      <td>the story is told by greer garason with  a great air of dignanty</td>\n",
              "      <td>the story is  by     the  a</td>\n",
              "    </tr>\n",
              "    <tr>\n",
              "      <th>4283</th>\n",
              "      <td>i also buy these to refill my larger unit since it is cheaper ordering it this way than individual brushes and rods</td>\n",
              "      <td>i also bought this for    i    a the with     and</td>\n",
              "    </tr>\n",
              "  </tbody>\n",
              "</table>\n",
              "</div>"
            ],
            "text/plain": [
              "                                                                                                                     actual                                                    predicted\n",
              "1971                                                                               i got these nylons for a party in winter                 i love this for     the                     \n",
              "3764                                                                                                            works great                      works great                            \n",
              "1282                                                                                                            very sturdy                      very sturdy                            \n",
              "2735                                                       the story is told by greer garason with  a great air of dignanty                the story is  by     the  a                  \n",
              "4283    i also buy these to refill my larger unit since it is cheaper ordering it this way than individual brushes and rods  i also bought this for    i    a the with     and          "
            ]
          },
          "metadata": {
            "tags": []
          },
          "execution_count": 93
        }
      ]
    },
    {
      "cell_type": "markdown",
      "metadata": {
        "id": "HLKQq1HPdUK5",
        "colab_type": "text"
      },
      "source": [
        "Model seems to do great on short sentences whereas it struggle to perform good on long sentences.\n",
        "\n",
        "I might start performing good if we had larger training data"
      ]
    },
    {
      "cell_type": "code",
      "metadata": {
        "id": "bXtjXsBudzk7",
        "colab_type": "code",
        "colab": {
          "base_uri": "https://localhost:8080/",
          "height": 224
        },
        "outputId": "c5330083-deb1-4b45-e805-2473802c7bc6"
      },
      "source": [
        "pred_df.sample(5)"
      ],
      "execution_count": 149,
      "outputs": [
        {
          "output_type": "execute_result",
          "data": {
            "text/html": [
              "<div>\n",
              "<style scoped>\n",
              "    .dataframe tbody tr th:only-of-type {\n",
              "        vertical-align: middle;\n",
              "    }\n",
              "\n",
              "    .dataframe tbody tr th {\n",
              "        vertical-align: top;\n",
              "    }\n",
              "\n",
              "    .dataframe thead th {\n",
              "        text-align: right;\n",
              "    }\n",
              "</style>\n",
              "<table border=\"1\" class=\"dataframe\">\n",
              "  <thead>\n",
              "    <tr style=\"text-align: right;\">\n",
              "      <th></th>\n",
              "      <th>actual</th>\n",
              "      <th>predicted</th>\n",
              "    </tr>\n",
              "  </thead>\n",
              "  <tbody>\n",
              "    <tr>\n",
              "      <th>4276</th>\n",
              "      <td>this pressure cooker is easy to use and maintains the quality of the end product better than convential cooking</td>\n",
              "      <td>this  is  easy and  to   the</td>\n",
              "    </tr>\n",
              "    <tr>\n",
              "      <th>1850</th>\n",
              "      <td>there seems to be little common ground which is a shame as the movie should be judged solely on its merits</td>\n",
              "      <td>it is have a  of  but   that should to  of</td>\n",
              "    </tr>\n",
              "    <tr>\n",
              "      <th>6359</th>\n",
              "      <td>ive had two of these machines</td>\n",
              "      <td>i have this</td>\n",
              "    </tr>\n",
              "    <tr>\n",
              "      <th>3136</th>\n",
              "      <td>i found myself holding my breath for long durations of the novel anxiously awaiting what happens next</td>\n",
              "      <td>i was it at in a     for book   to</td>\n",
              "    </tr>\n",
              "    <tr>\n",
              "      <th>2734</th>\n",
              "      <td>the headset has yet to drop bluetooth connection on its own which is a first for all the headsets i8217ve owned and is kind of impressive</td>\n",
              "      <td>the bluetooth has have  a the       i  and   the as</td>\n",
              "    </tr>\n",
              "  </tbody>\n",
              "</table>\n",
              "</div>"
            ],
            "text/plain": [
              "                                                                                                                                          actual                                                      predicted\n",
              "4276                            this pressure cooker is easy to use and maintains the quality of the end product better than convential cooking                 this  is  easy and  to   the                   \n",
              "1850                                  there seems to be little common ground which is a shame as the movie should be judged solely on its merits      it is have a  of  but   that should to  of               \n",
              "6359                                                                                                               ive had two of these machines                         i have this                           \n",
              "3136                                       i found myself holding my breath for long durations of the novel anxiously awaiting what happens next              i was it at in a     for book   to               \n",
              "2734   the headset has yet to drop bluetooth connection on its own which is a first for all the headsets i8217ve owned and is kind of impressive  the bluetooth has have  a the       i  and   the as          "
            ]
          },
          "metadata": {
            "tags": []
          },
          "execution_count": 149
        }
      ]
    }
  ]
}